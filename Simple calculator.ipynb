{
 "cells": [
  {
   "cell_type": "markdown",
   "id": "de74c060",
   "metadata": {},
   "source": [
    "# InterPE"
   ]
  },
  {
   "cell_type": "markdown",
   "id": "77ee4787",
   "metadata": {},
   "source": [
    "## Python Programming"
   ]
  },
  {
   "cell_type": "markdown",
   "id": "8dcddacf",
   "metadata": {},
   "source": [
    "## Task 1 : Simple Calculator"
   ]
  },
  {
   "cell_type": "markdown",
   "id": "74c9caef",
   "metadata": {},
   "source": [
    "### Author: Mane Susmita "
   ]
  },
  {
   "cell_type": "markdown",
   "id": "daa4e359",
   "metadata": {},
   "source": [
    "Problem Statement : Create a simple calculator which perform basic arithmetic operations like addition, subtraction, multiplication, or division depending upon the user input."
   ]
  },
  {
   "cell_type": "code",
   "execution_count": 2,
   "id": "b9352c0b",
   "metadata": {},
   "outputs": [
    {
     "name": "stdout",
     "output_type": "stream",
     "text": [
      "Select operation.\n",
      "1.Add\n",
      "2.Subtract\n",
      "3.Multiply\n",
      "4.Divide\n",
      "Enter choice(1/2/3/4):2\n",
      "Enter first number: 25\n",
      "Enter second number: 3\n",
      "25 - 3 = 22\n"
     ]
    }
   ],
   "source": [
    "# Program make a simple calculator that can add, subtract, multiply and divide using functions\n",
    "\n",
    "# define functions\n",
    "def add(x, y):\n",
    "   \"\"\"This function adds two numbers\"\"\"\n",
    "\n",
    "   return x + y\n",
    "\n",
    "def subtract(x, y):\n",
    "   \"\"\"This function subtracts two numbers\"\"\"\n",
    "\n",
    "   return x - y\n",
    "\n",
    "def multiply(x, y):\n",
    "   \"\"\"This function multiplies two numbers\"\"\"\n",
    "\n",
    "   return x * y\n",
    "\n",
    "def divide(x, y):\n",
    "   \"\"\"This function divides two numbers\"\"\"\n",
    "\n",
    "   return x / y\n",
    "\n",
    "# take input from the user\n",
    "print(\"Select operation.\")\n",
    "print(\"1.Add\")\n",
    "print(\"2.Subtract\")\n",
    "print(\"3.Multiply\")\n",
    "print(\"4.Divide\")\n",
    "\n",
    "choice = input(\"Enter choice(1/2/3/4):\")\n",
    "\n",
    "num1 = int(input(\"Enter first number: \"))\n",
    "num2 = int(input(\"Enter second number: \"))\n",
    "\n",
    "if choice == '1':\n",
    "   print(num1,\"+\",num2,\"=\", add(num1,num2))\n",
    "\n",
    "elif choice == '2':\n",
    "   print(num1,\"-\",num2,\"=\", subtract(num1,num2))\n",
    "\n",
    "elif choice == '3':\n",
    "   print(num1,\"*\",num2,\"=\", multiply(num1,num2))\n",
    "\n",
    "elif choice == '4':\n",
    "   print(num1,\"/\",num2,\"=\", divide(num1,num2))\n",
    "else:\n",
    "   print(\"Invalid input\")"
   ]
  },
  {
   "cell_type": "code",
   "execution_count": null,
   "id": "c8a876fa",
   "metadata": {},
   "outputs": [],
   "source": []
  }
 ],
 "metadata": {
  "kernelspec": {
   "display_name": "Python 3 (ipykernel)",
   "language": "python",
   "name": "python3"
  },
  "language_info": {
   "codemirror_mode": {
    "name": "ipython",
    "version": 3
   },
   "file_extension": ".py",
   "mimetype": "text/x-python",
   "name": "python",
   "nbconvert_exporter": "python",
   "pygments_lexer": "ipython3",
   "version": "3.9.13"
  }
 },
 "nbformat": 4,
 "nbformat_minor": 5
}
